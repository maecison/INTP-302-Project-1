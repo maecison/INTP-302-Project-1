{
 "cells": [
  {
   "cell_type": "markdown",
   "metadata": {},
   "source": [
    "# INTP-302 Project 1\n",
    "\n",
    "**We are TechNova and our proof-of-concept project idea is to explore and learn Jupyter Notebook. We aim to explore Jupyter Notebook's capabilities and see what it has to offer for productivity. To provide a brief description, Jupyter Notebook is a web-based application that allows you to make text, live code, visualizations, and perform data analysis, all in one document. Jupyter Notebooks are ideal for collaborative projects because they can be easily shared with team members.**"
   ]
  },
  {
   "cell_type": "code",
   "execution_count": null,
   "metadata": {},
   "outputs": [],
   "source": []
  }
 ],
 "metadata": {
  "kernelspec": {
   "display_name": "Python 3",
   "language": "python",
   "name": "python3"
  },
  "language_info": {
   "codemirror_mode": {
    "name": "ipython",
    "version": 3
   },
   "file_extension": ".py",
   "mimetype": "text/x-python",
   "name": "python",
   "nbconvert_exporter": "python",
   "pygments_lexer": "ipython3",
   "version": "3.12.2"
  }
 },
 "nbformat": 4,
 "nbformat_minor": 2
}
